{
 "cells": [
  {
   "cell_type": "code",
   "execution_count": 3,
   "id": "710c6ef0-6b93-49c0-9493-0ec1ca204e2d",
   "metadata": {},
   "outputs": [],
   "source": [
    "import numpy as np\n",
    "import pandas as pd\n",
    "import matplotlib.pyplot as plt\n",
    "from sklearn.model_selection import train_test_split\n",
    "from sklearn.svm import SVC\n",
    "from matplotlib.colors import ListedColormap\n",
    "from mpl_toolkits import mplot3d\n",
    "from matplotlib.axes._axes import _log as matplotlib_axes_logger"
   ]
  },
  {
   "cell_type": "code",
   "execution_count": 9,
   "id": "d2bdde70-a0fd-4ca2-a1d7-5a5f0c1d32d8",
   "metadata": {},
   "outputs": [
    {
     "data": {
      "text/plain": [
       "<matplotlib.collections.PathCollection at 0x186d63b49e0>"
      ]
     },
     "execution_count": 9,
     "metadata": {},
     "output_type": "execute_result"
    },
    {
     "data": {
      "image/png": "[encoded data removed]",
      "text/plain": [
       "<Figure size 640x480 with 1 Axes>"
      ]
     },
     "metadata": {},
     "output_type": "display_data"
    }
   ],
   "source": [
    "from sklearn.datasets import make_circles\n",
    "X,y = make_circles(100, factor=.1, noise=.1)\n",
    "\n",
    "plt.scatter(X[:,0], X[:,1], c=y, s=50, cmap='bwr')"
   ]
  },
  {
   "cell_type": "code",
   "execution_count": 11,
   "id": "aa9da5a1-a859-4db1-9573-eb4ebc204ae7",
   "metadata": {},
   "outputs": [],
   "source": [
    "X_train, X_test, y_train, y_test = train_test_split(X,y, test_size=0.20)"
   ]
  },
  {
   "cell_type": "code",
   "execution_count": 15,
   "id": "42b2fcaa-a3a5-4896-bba0-954f94b85cb4",
   "metadata": {},
   "outputs": [],
   "source": [
    "classifier = SVC(kernel='linear')\n",
    "classifier.fit(X_train,y_train.ravel())\n",
    "y_pred = classifier.predict(X_test)"
   ]
  },
  {
   "cell_type": "code",
   "execution_count": 17,
   "id": "041fac37-dba7-4db6-b628-6ef4cd1bd494",
   "metadata": {},
   "outputs": [
    {
     "data": {
      "text/plain": [
       "0.4"
      ]
     },
     "execution_count": 17,
     "metadata": {},
     "output_type": "execute_result"
    }
   ],
   "source": [
    "from sklearn.metrics import accuracy_score\n",
    "accuracy_score(y_test,y_pred)"
   ]
  },
  {
   "cell_type": "code",
   "execution_count": 19,
   "id": "ffd7bad9-f481-43eb-874b-1334fce20b22",
   "metadata": {},
   "outputs": [],
   "source": [
    "rbf_classifier = SVC(kernel='rbf')\n",
    "rbf_classifier.fit(X_train,y_train)\n",
    "y_pred = rbf_classifier.predict(X_test)"
   ]
  },
  {
   "cell_type": "code",
   "execution_count": 21,
   "id": "e9ba0604-ce05-40d0-89df-66a684c74efb",
   "metadata": {},
   "outputs": [
    {
     "data": {
      "text/plain": [
       "1.0"
      ]
     },
     "execution_count": 21,
     "metadata": {},
     "output_type": "execute_result"
    }
   ],
   "source": [
    "accuracy_score(y_test,y_pred)"
   ]
  },
  {
   "cell_type": "code",
   "execution_count": 31,
   "id": "a06f6fe8-990f-4407-afe8-4b33da25404a",
   "metadata": {},
   "outputs": [],
   "source": [
    "poly_classifier = SVC(kernel='poly', degree=2)\n",
    "poly_classifier.fit(X_train,y_train)\n",
    "y_pred = poly_classifier.predict(X_test)\n"
   ]
  },
  {
   "cell_type": "code",
   "execution_count": 33,
   "id": "6cfe7199-3815-4f65-8ea5-75eef57216a4",
   "metadata": {},
   "outputs": [
    {
     "data": {
      "text/plain": [
       "1.0"
      ]
     },
     "execution_count": 33,
     "metadata": {},
     "output_type": "execute_result"
    }
   ],
   "source": [
    "accuracy_score(y_test,y_pred)\n"
   ]
  },
  {
   "cell_type": "code",
   "execution_count": 35,
   "id": "cc9f2d6d-6bca-4585-895e-7e9e94362f6f",
   "metadata": {},
   "outputs": [
    {
     "data": {
      "text/plain": [
       "array([[-6.30319088e-01,  7.26869238e-01],\n",
       "       [-2.18901938e-01,  6.23344092e-04],\n",
       "       [ 1.92275695e-01,  4.24512779e-02],\n",
       "       [ 7.41982278e-03, -8.72955437e-03],\n",
       "       [ 8.64138939e-01, -6.07629469e-01],\n",
       "       [-7.21189723e-02,  8.71517625e-02],\n",
       "       [-1.05436530e+00, -1.49493609e-01],\n",
       "       [-1.07107582e-01,  6.42649670e-02],\n",
       "       [-9.99660968e-01,  2.75914290e-01],\n",
       "       [ 9.09656725e-02,  5.02606959e-03],\n",
       "       [-1.04912649e-01, -1.21961044e-01],\n",
       "       [ 8.37192020e-01,  7.15290053e-01],\n",
       "       [ 1.83837757e-01, -1.60924623e-01],\n",
       "       [-7.95037644e-01,  7.78911456e-01],\n",
       "       [-1.88319045e-01, -1.03227188e-01],\n",
       "       [-1.29213743e-01,  2.10317645e-01],\n",
       "       [ 7.48384625e-02, -3.79365444e-02],\n",
       "       [ 8.03841915e-01, -6.50655832e-01],\n",
       "       [ 9.72535406e-01,  3.59945191e-01],\n",
       "       [ 4.87098258e-02,  5.91837869e-02],\n",
       "       [-8.29098959e-01,  4.74881982e-01],\n",
       "       [ 1.42140481e-01, -2.47934882e-02],\n",
       "       [ 2.11271896e-03,  6.50020119e-02],\n",
       "       [-3.73876604e-01,  9.73334154e-01],\n",
       "       [-8.54546275e-01, -3.12607893e-01],\n",
       "       [-3.39112343e-02,  7.57052502e-01],\n",
       "       [ 6.44214316e-01, -6.12822720e-01],\n",
       "       [-1.93397546e-01,  2.54617488e-01],\n",
       "       [-4.02340736e-02, -2.17983793e-02],\n",
       "       [ 5.51348204e-02, -5.15202218e-02],\n",
       "       [-6.50279576e-02,  3.84934208e-02],\n",
       "       [ 3.30902642e-01, -8.34846996e-01],\n",
       "       [ 7.67257190e-01,  5.16357934e-01],\n",
       "       [ 1.19576295e+00, -7.90116027e-02],\n",
       "       [ 5.52260868e-01,  6.81508381e-01],\n",
       "       [ 9.13961817e-01, -2.18860442e-01],\n",
       "       [-1.01985364e-01,  5.61056620e-02],\n",
       "       [ 1.09047444e-02,  1.17995314e-01],\n",
       "       [ 6.50589353e-04,  7.21965042e-02],\n",
       "       [ 1.08451682e+00, -1.01868757e-02],\n",
       "       [-1.02354350e+00,  2.93616057e-01],\n",
       "       [ 1.66122522e-01, -1.91889316e-01],\n",
       "       [ 3.92216801e-02, -8.83826874e-01],\n",
       "       [ 1.15642167e-01,  2.24715813e-01],\n",
       "       [-9.53008240e-02, -1.12895926e-01],\n",
       "       [ 4.33271399e-01,  9.44278550e-01],\n",
       "       [-7.91909426e-01, -1.29426985e-02],\n",
       "       [-1.21229200e-01, -2.91747918e-02],\n",
       "       [-6.66723339e-02, -3.68191617e-02],\n",
       "       [ 2.67674781e-01,  9.18699280e-01],\n",
       "       [-9.14717286e-01,  6.05103383e-02],\n",
       "       [-8.36484635e-01,  7.11433751e-01],\n",
       "       [ 5.93072398e-01, -1.01773653e+00],\n",
       "       [ 2.31570834e-01, -7.54376816e-02],\n",
       "       [-2.65998379e-01, -1.68670784e-01],\n",
       "       [ 6.36927761e-02,  1.78184126e-02],\n",
       "       [ 8.12125104e-01,  8.42004933e-01],\n",
       "       [ 2.15388653e-01, -1.29076771e-01],\n",
       "       [ 4.13201504e-01,  1.02292267e+00],\n",
       "       [-4.74517592e-01, -7.93016847e-01],\n",
       "       [-6.75617883e-01, -3.99213424e-01],\n",
       "       [-2.45535210e-02, -1.13870755e+00],\n",
       "       [ 8.49194766e-01, -4.24054547e-01],\n",
       "       [ 1.04797732e+00, -2.58789169e-01],\n",
       "       [ 4.63813291e-01, -9.71175602e-01],\n",
       "       [-2.37971560e-01, -1.04791761e+00],\n",
       "       [-6.96669697e-01,  9.59531029e-01],\n",
       "       [-1.75223969e-01,  8.76321950e-01],\n",
       "       [ 5.43887385e-02, -5.27743493e-02],\n",
       "       [ 2.69619992e-01,  7.95982032e-02],\n",
       "       [-1.42440205e-01,  1.19067596e-01],\n",
       "       [ 1.14110095e+00, -8.32688826e-02],\n",
       "       [ 1.14038713e-01, -1.14740216e-01],\n",
       "       [-6.89646650e-01, -6.92183179e-01],\n",
       "       [-7.47959126e-02, -1.04280719e-01],\n",
       "       [ 1.08632111e+00,  2.25805029e-01],\n",
       "       [ 1.50002626e-01, -5.84639858e-02],\n",
       "       [-6.30298380e-01, -6.82374471e-01],\n",
       "       [-7.60770197e-01, -8.08376339e-01],\n",
       "       [ 1.07352916e-01,  3.70137125e-03],\n",
       "       [ 8.78805102e-02, -1.04597084e-02],\n",
       "       [-4.62489666e-01, -8.02634386e-01],\n",
       "       [ 1.63821216e-04,  3.60686309e-02],\n",
       "       [ 3.02207937e-03, -1.54545324e-01],\n",
       "       [-1.48279567e-01, -1.24753415e-01],\n",
       "       [ 5.36265969e-02, -8.73895637e-01],\n",
       "       [-1.66922895e-01, -9.39173915e-02],\n",
       "       [ 7.63365707e-01,  3.98364720e-01],\n",
       "       [ 3.63027875e-02, -6.11010197e-03],\n",
       "       [ 1.11010406e-01,  1.01879439e+00],\n",
       "       [ 1.13537089e-01,  1.65602771e-01],\n",
       "       [ 3.20723343e-01, -1.08803629e+00],\n",
       "       [-1.22128031e-01,  9.53127731e-01],\n",
       "       [-1.85118048e-01, -5.65783640e-02],\n",
       "       [-1.40444281e-01, -1.03738913e-01],\n",
       "       [-2.08114312e-01,  6.83216335e-02],\n",
       "       [-4.39278736e-02,  1.50843718e-01],\n",
       "       [ 2.64540028e-02, -2.83071956e-01],\n",
       "       [-9.37714113e-01, -1.28896541e-01],\n",
       "       [-2.85751018e-01, -8.95622566e-02]])"
      ]
     },
     "execution_count": 35,
     "metadata": {},
     "output_type": "execute_result"
    }
   ],
   "source": [
    "X"
   ]
  },
  {
   "cell_type": "code",
   "execution_count": 37,
   "id": "ffd1799f-4bdc-4fa2-a6c7-44a4d7415661",
   "metadata": {},
   "outputs": [
    {
     "data": {
      "text/plain": [
       "array([1.26171443, 1.9532115 , 1.96190461, 1.99986875, 1.16518858,\n",
       "       1.9872457 , 1.30690327, 1.98447205, 1.29482587, 1.99173413,\n",
       "       1.97428927, 1.09565496, 1.94120411, 1.0766278 , 1.95455814,\n",
       "       1.94017294, 1.99297671, 1.17890075, 1.2668404 , 1.99413357,\n",
       "       1.30098607, 1.97938429, 1.99577919, 1.25730214, 1.3886883 ,\n",
       "       1.56260965, 1.34724252, 1.90051494, 1.99790747, 1.99431395,\n",
       "       1.99429965, 1.39437773, 1.32101734, 1.23312166, 1.36560759,\n",
       "       1.38696218, 1.98650999, 1.98605467, 1.9948008 , 1.30835203,\n",
       "       1.26816532, 1.93662878, 1.45634202, 1.93747251, 1.97829426,\n",
       "       1.23881717, 1.53396009, 1.98456014, 1.99420993, 1.36084037,\n",
       "       1.42947937, 1.09955024, 1.05841331, 1.94211273, 1.90364105,\n",
       "       1.995634  , 1.00923514, 1.93814461, 1.1942546 , 1.33157384,\n",
       "       1.4862023 , 1.27284227, 1.32162037, 1.26867351, 1.19582924,\n",
       "       1.27843689, 1.01372282, 1.43373091, 1.99426498, 1.92356861,\n",
       "       1.96583816, 1.26504726, 1.97400034, 1.24083394, 1.98360564,\n",
       "       1.25754015, 1.97433826, 1.29988487, 1.08082296, 1.98852781,\n",
       "       1.99219736, 1.33250271, 1.99869987, 1.97638958, 1.96281019,\n",
       "       1.46307057, 1.96373966, 1.41163052, 1.99864564, 1.34193515,\n",
       "       1.96014041, 1.20835642, 1.38834305, 1.96311584, 1.9697646 ,\n",
       "       1.95295602, 1.97557529, 1.92229703, 1.39859308, 1.91360179])"
      ]
     },
     "execution_count": 37,
     "metadata": {},
     "output_type": "execute_result"
    }
   ],
   "source": [
    "np.exp(-(X**2)).sum(1)"
   ]
  },
  {
   "cell_type": "code",
   "execution_count": 39,
   "id": "8ae0fdb1-12ba-4e89-ac02-4b919dfec7cf",
   "metadata": {},
   "outputs": [],
   "source": [
    "X_new = np.exp(-(X**2))"
   ]
  },
  {
   "cell_type": "code",
   "execution_count": 41,
   "id": "8e4e8606-a327-4854-b7af-0325a8cc32ef",
   "metadata": {},
   "outputs": [
    {
     "data": {
      "text/plain": [
       "<matplotlib.collections.PathCollection at 0x186dcfab6e0>"
      ]
     },
     "execution_count": 41,
     "metadata": {},
     "output_type": "execute_result"
    },
    {
     "data": {
      "image/png": "[encoded data removed]",
      "text/plain": [
       "<Figure size 640x480 with 1 Axes>"
      ]
     },
     "metadata": {},
     "output_type": "display_data"
    }
   ],
   "source": [
    "plt.scatter(X_new[:,0], X_new[:,1], c=y, s=50, cmap='bwr')"
   ]
  },
  {
   "cell_type": "code",
   "execution_count": null,
   "id": "57089667-3baa-4846-bbda-436ce87129f1",
   "metadata": {},
   "outputs": [],
   "source": []
  }
 ],
 "metadata": {
  "kernelspec": {
   "display_name": "Python [conda env:base] *",
   "language": "python",
   "name": "conda-base-py"
  },
  "language_info": {
   "codemirror_mode": {
    "name": "ipython",
    "version": 3
   },
   "file_extension": ".py",
   "mimetype": "text/x-python",
   "name": "python",
   "nbconvert_exporter": "python",
   "pygments_lexer": "ipython3",
   "version": "3.12.7"
  }
 },
 "nbformat": 4,
 "nbformat_minor": 5
}
